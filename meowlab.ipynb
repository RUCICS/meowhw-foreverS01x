{
 "cells": [
  {
   "cell_type": "markdown",
   "id": "c6175159",
   "metadata": {},
   "source": [
    "# MeowLab\n",
    "\n",
    "> cat可能是你最常用的命令行工具之一，但是可能很少有人会关注cat的性能问题。\n",
    "> \n",
    "> 但实际上，cat可能比你想的更加高效。在这个lab中，我们会一起来探索cat如此高效的秘密。"
   ]
  },
  {
   "cell_type": "markdown",
   "id": "ef876965",
   "metadata": {},
   "source": [
    "## 什么是cat\n",
    "\n",
    "对于大部分同学来说，这个问题有些太trivial了。但是以防万一，还是在这里介绍一下，cat是一个GNU coreutils中的一个程序，它的作用是连接(con**cat**enate)一系列文件，并将其输出到标准输出流(stdout)中。\n",
    "\n",
    "> 如果你愿意去找，你会发现这个lab中所有的代码都可以在GNU coreutils中找到，或者你用某个大模型，它可能也能写得不错。\n",
    "> 但是，除了写代码以外，这个lab中也会包含一些分析和讨论。因此即使你选择直接去抄GNU coreutils中的代码，也不要直接不加思考的复制粘贴。"
   ]
  },
  {
   "cell_type": "markdown",
   "id": "be33179e",
   "metadata": {},
   "source": [
    "## 环境要求\n",
    "\n",
    "* 操作系统：Linux（任何包含GNU coreutils的发行版）\n",
    "* 编译器：本lab允许使用C/C++或者Rust，选择你喜欢的任何编译器即可。\n",
    "* Python3.x：本lab一些地方需要你画图，推荐你使用matplotlib。另外，我们使用一个简单的脚本来生成测试文件。"
   ]
  },
  {
   "cell_type": "markdown",
   "id": "c6d3e510",
   "metadata": {},
   "source": [
    "## 在开始之前\n",
    "\n",
    "这个项目的所有代码需要你自己动手来写，我们只提供了一个用于生成测试文件的脚本。\n",
    "\n",
    "为了展示比较明显的测试效果，我们会生成一个2GB的测试文件，请确保你的磁盘拥有足够的空间。你可以运行下面这个单元格来查看你的电脑是否有足够的空间。这里我们使用了`df`命令，这个命令的作用是查看某个文件系统所在的磁盘的使用量。"
   ]
  },
  {
   "cell_type": "code",
   "execution_count": 22,
   "id": "14021422",
   "metadata": {},
   "outputs": [
    {
     "name": "stdout",
     "output_type": "stream",
     "text": [
      "Filesystem      Size  Used Avail Use% Mounted on\n",
      "/dev/sdd       1007G  7.9G  948G   1% /\n"
     ]
    },
    {
     "name": "stdout",
     "output_type": "stream",
     "text": [
      "Disk space is sufficient: 948G\n"
     ]
    }
   ],
   "source": [
    "%%bash\n",
    "df -h /\n",
    "\n",
    "avail=$(df -h / | awk 'NR==2 {print $4}' | grep -o '[0-9.]*')\n",
    "unit=$(df -h / | awk 'NR==2 {print $4}' | grep -o '[a-zA-Z]*')\n",
    "if [[ \"$unit\" == \"M\" || \"$unit\" == \"K\" ]]; then\n",
    "    echo \"Disk space is low: $avail$unit\"\n",
    "elif [[ \"$unit\" == \"T\" ]]; then\n",
    "    echo \"Disk space is sufficient: $avail$unit\"\n",
    "elif [[ \"$unit\" == \"G\" ]]; then\n",
    "    if (( $(echo \"$avail < 10\" | bc -l) )); then\n",
    "        echo \"Disk space is low: $avail$unit\"\n",
    "    else\n",
    "        echo \"Disk space is sufficient: $avail$unit\"\n",
    "    fi\n",
    "else\n",
    "    echo \"Unknown unit: $unit\"\n",
    "fi\n"
   ]
  },
  {
   "cell_type": "markdown",
   "id": "64cc6804",
   "metadata": {},
   "source": [
    "你可以使用我们提供的python脚本来生成测试文件，运行下面的单元格。测试文件的生成可能会花费一定的时间。"
   ]
  },
  {
   "cell_type": "code",
   "execution_count": 2,
   "id": "8ead0359",
   "metadata": {},
   "outputs": [],
   "source": [
    "import random\n",
    "\n",
    "MB = 1024 * 1024\n",
    "\n",
    "# A static seed for reproducibility\n",
    "random.seed(42)\n",
    "\n",
    "with open(\"test.txt\", \"wb\") as f:\n",
    "    for _ in range(2048):\n",
    "        f.write(random.randbytes(1 * MB)) # 1MB of random data"
   ]
  },
  {
   "cell_type": "markdown",
   "id": "a0017028",
   "metadata": {},
   "source": [
    "当前文件夹下面会出现一个大小为2GB的文件`test.txt`。你可以运行下面的单元格来验证。"
   ]
  },
  {
   "cell_type": "code",
   "execution_count": 3,
   "id": "a4bd4bd0",
   "metadata": {},
   "outputs": [
    {
     "name": "stdout",
     "output_type": "stream",
     "text": [
      "-rw-r--r-- 1 songaixuan songaixuan 2.0G Jun  3 12:35 test.txt\n"
     ]
    }
   ],
   "source": [
    "%%bash\n",
    "ls -lh test.txt"
   ]
  },
  {
   "cell_type": "markdown",
   "id": "55fbac6a",
   "metadata": {},
   "source": [
    "最后，我们的lab会需要使用`hyperfine`来测量程序的运行时间。我们推荐你使用`cargo`进行安装。你可以从[Rust官网](https://www.rust-lang.org/zh-CN/learn/get-started)找到安装脚本。如果你的电脑已经安装好了`cargo`，你可以运行下面的单元格来安装`hyperfine`。"
   ]
  },
  {
   "cell_type": "code",
   "execution_count": 8,
   "id": "77f0165a",
   "metadata": {},
   "outputs": [
    {
     "name": "stderr",
     "output_type": "stream",
     "text": [
      "788.27s - pydevd: Sending message related to process being replaced timed-out after 5 seconds\n"
     ]
    },
    {
     "name": "stdout",
     "output_type": "stream",
     "text": [
      "\u001b[1m\u001b[32m    Updating\u001b[0m crates.io index\n",
      "\u001b[K\u001b[1m\u001b[32m  Downloaded\u001b[0m hyperfine v1.19.0ytes: 36.4KiB                                \n",
      "\u001b[K\u001b[1m\u001b[32m  Downloaded\u001b[0m 1 crate (180.3KiB) in 0.87s                                   \n",
      "\u001b[1m\u001b[32m  Installing\u001b[0m hyperfine v1.19.0\n",
      "\u001b[1m\u001b[32m    Updating\u001b[0m crates.io index\n",
      "\u001b[K\u001b[1m\u001b[32m     Locking\u001b[0m 137 packages to latest compatible versionsete; 2 pending      \n",
      "\u001b[1m\u001b[36m      Adding\u001b[0m colored v2.2.0 \u001b[1m\u001b[33m(available: v3.0.0)\u001b[0m\n",
      "\u001b[1m\u001b[36m      Adding\u001b[0m indicatif v0.17.4 \u001b[1m\u001b[33m(available: v0.17.11)\u001b[0m\n",
      "\u001b[1m\u001b[36m      Adding\u001b[0m nix v0.29.0 \u001b[1m\u001b[33m(available: v0.30.1)\u001b[0m\n",
      "\u001b[1m\u001b[36m      Adding\u001b[0m rand v0.8.5 \u001b[1m\u001b[33m(available: v0.9.1)\u001b[0m\n",
      "\u001b[K\u001b[1m\u001b[32m  Downloaded\u001b[0m anyhow v1.0.98ning bytes: 20.6KiB                             \n",
      "\u001b[K\u001b[1m\u001b[32m  Downloaded\u001b[0m autocfg v1.4.0                                                \n",
      "\u001b[K\u001b[1m\u001b[32m  Downloaded\u001b[0m bitflags v2.9.1ing bytes: 15.3KiB                             \n",
      "\u001b[K\u001b[1m\u001b[32m  Downloaded\u001b[0m cfg-if v1.0.0                                                 \n",
      "\u001b[K\u001b[1m\u001b[32m  Downloaded\u001b[0m version_check v0.9.5                                          \n",
      "\u001b[K\u001b[1m\u001b[32m  Downloaded\u001b[0m equivalent v1.0.2                                             \n",
      "\u001b[K\u001b[1m\u001b[32m  Downloaded\u001b[0m getrandom v0.2.16 bytes: 42.1KiB                              \n",
      "\u001b[K\u001b[1m\u001b[32m  Downloaded\u001b[0m uuid v1.17.0ining bytes: 10.1KiB                              \n",
      "\u001b[K\u001b[1m\u001b[32m  Downloaded\u001b[0m itoa v1.0.15ining bytes: 105.6KiB                             \n",
      "\u001b[K\u001b[1m\u001b[32m  Downloaded\u001b[0m autocfg v0.1.8ing bytes: 823.1KiB                             \n",
      "\u001b[K\u001b[1m\u001b[32m  Downloaded\u001b[0m clap_complete v4.5.52es: 823.1KiB                             \n",
      "\u001b[K\u001b[1m\u001b[32m  Downloaded\u001b[0m lazy_static v1.5.0bytes: 807.3KiB                             \n",
      "\u001b[K\u001b[1m\u001b[32m  Downloaded\u001b[0m anstyle-query v1.1.2tes: 807.3KiB                             \n",
      "\u001b[K\u001b[1m\u001b[32m  Downloaded\u001b[0m anstream v0.6.18g bytes: 842.6KiB                             \n",
      "\u001b[K\u001b[1m\u001b[32m  Downloaded\u001b[0m arrayvec v0.7.6ng bytes: 842.6KiB                             \n",
      "\u001b[K\u001b[1m\u001b[32m  Downloaded\u001b[0m wyz v0.5.1maining bytes: 842.6KiB                             \n",
      "\u001b[K\u001b[1m\u001b[32m  Downloaded\u001b[0m anstyle-parse v0.2.6tes: 842.6KiB                             \n",
      "\u001b[K\u001b[1m\u001b[32m  Downloaded\u001b[0m bytecheck_derive v0.6.12 842.6KiB                             \n",
      "\u001b[K\u001b[1m\u001b[32m  Downloaded\u001b[0m cfg_aliases v0.2.1bytes: 916.6KiB                             \n",
      "\u001b[K\u001b[1m\u001b[32m  Downloaded\u001b[0m bytecheck v0.6.12 bytes: 970.3KiB                             \n",
      "\u001b[K\u001b[1m\u001b[32m  Downloaded\u001b[0m colorchoice v1.0.3bytes: 970.3KiB                             \n",
      "\u001b[K\u001b[1m\u001b[32m  Downloaded\u001b[0m errno v0.3.12ning bytes: 1.1MiB                               \n",
      "\u001b[K\u001b[1m\u001b[32m  Downloaded\u001b[0m funty v2.0.0ining bytes: 1.1MiB                               \n",
      "\u001b[K\u001b[1m\u001b[32m  Downloaded\u001b[0m anstyle v1.0.10ng bytes: 1.2MiB                               \n",
      "\u001b[K\u001b[1m\u001b[32m  Downloaded\u001b[0m clap_lex v0.7.4ng bytes: 1.5MiB                               \n",
      "\u001b[K\u001b[1m\u001b[32m  Downloaded\u001b[0m console v0.15.11g bytes: 1.5MiB                               \n",
      "\u001b[K\u001b[1m\u001b[32m  Downloaded\u001b[0m is_terminal_polyfill v1.70.1MiB                               \n",
      "\u001b[K\u001b[1m\u001b[32m  Downloaded\u001b[0m indicatif v0.17.4 bytes: 2.4MiB                               \n",
      "\u001b[K\u001b[1m\u001b[32m  Downloaded\u001b[0m ahash v0.7.8ining bytes: 2.4MiB                               \n",
      "\u001b[K\u001b[1m\u001b[32m  Downloaded\u001b[0m clap v4.5.39ining bytes: 2.4MiB                               \n",
      "\u001b[K\u001b[1m\u001b[32m  Downloaded\u001b[0m borsh-derive v1.5.7ytes: 8.4MiB                               \n",
      "\u001b[K\u001b[1m\u001b[32m  Downloaded\u001b[0m colored v2.2.0ing bytes: 8.3MiB                               \n",
      "\u001b[K\u001b[1m\u001b[32m  Downloaded\u001b[0m csv-core v0.1.12g bytes: 8.2MiB                               \n",
      "\u001b[K\u001b[1m\u001b[32m  Downloaded\u001b[0m num-traits v0.2.19bytes: 8.2MiB                               \n",
      "\u001b[K\u001b[1m\u001b[32m  Downloaded\u001b[0m once_cell v1.21.3 bytes: 8.0MiB                               \n",
      "\u001b[K\u001b[1m\u001b[32m  Downloaded\u001b[0m ppv-lite86 v0.2.21bytes: 7.9MiB                               \n",
      "\u001b[K\u001b[1m\u001b[32m  Downloaded\u001b[0m zerocopy v0.8.25g bytes: 7.8MiB                               \n",
      "\u001b[K\u001b[1m\u001b[32m  Downloaded\u001b[0m rand_chacha v0.3.1bytes: 7.8MiB                               \n",
      "\u001b[K\u001b[1m\u001b[32m  Downloaded\u001b[0m rand_core v0.6.4g bytes: 7.7MiB                               \n",
      "\u001b[K\u001b[1m\u001b[32m  Downloaded\u001b[0m ryu v1.0.20aining bytes: 7.7MiB                               \n",
      "\u001b[K\u001b[1m\u001b[32m  Downloaded\u001b[0m num-iter v0.1.45g bytes: 7.7MiB                               \n",
      "\u001b[K\u001b[1m\u001b[32m  Downloaded\u001b[0m rend v0.4.2aining bytes: 7.4MiB                               \n",
      "\u001b[K\u001b[1m\u001b[32m  Downloaded\u001b[0m quote v1.0.40ning bytes: 7.3MiB                               \n",
      "\u001b[K\u001b[1m\u001b[32m  Downloaded\u001b[0m ptr_meta_derive v0.1.4s: 7.3MiB                               \n",
      "\u001b[K\u001b[1m\u001b[32m  Downloaded\u001b[0m ptr_meta v0.1.4ng bytes: 7.3MiB                               \n",
      "\u001b[K\u001b[1m\u001b[32m  Downloaded\u001b[0m number_prefix v0.4.0tes: 7.3MiB                               \n",
      "\u001b[K\u001b[1m\u001b[32m  Downloaded\u001b[0m radium v0.7.0ning bytes: 7.3MiB                               \n",
      "\u001b[K\u001b[1m\u001b[32m  Downloaded\u001b[0m tap v1.0.1maining bytes: 7.2MiB                               \n",
      "\u001b[K\u001b[1m\u001b[32m  Downloaded\u001b[0m shell-words v1.1.0bytes: 7.2MiB                               \n",
      "\u001b[K\u001b[1m\u001b[32m  Downloaded\u001b[0m serde_derive v1.0.219es: 7.2MiB                               \n",
      "\u001b[K\u001b[1m\u001b[32m  Downloaded\u001b[0m thiserror-impl v2.0.12s: 7.1MiB                               \n",
      "\u001b[K\u001b[1m\u001b[32m  Downloaded\u001b[0m utf8parse v0.2.2g bytes: 7.1MiB                               \n",
      "\u001b[K\u001b[1m\u001b[32m  Downloaded\u001b[0m thiserror v2.0.12 bytes: 7.1MiB                               \n",
      "\u001b[K\u001b[1m\u001b[32m  Downloaded\u001b[0m unicode-ident v1.0.18es: 7.1MiB                               \n",
      "\u001b[K\u001b[1m\u001b[32m  Downloaded\u001b[0m tinyvec_macros v0.1.1es: 6.9MiB                               \n",
      "\u001b[K\u001b[1m\u001b[32m  Downloaded\u001b[0m tinyvec v1.9.0ing bytes: 6.8MiB                               \n",
      "\u001b[K\u001b[1m\u001b[32m  Downloaded\u001b[0m toml_datetime v0.6.9tes: 6.8MiB                               \n",
      "\u001b[K\u001b[1m\u001b[32m  Downloaded\u001b[0m terminal_size v0.4.2tes: 6.8MiB                               \n",
      "\u001b[K\u001b[1m\u001b[32m  Downloaded\u001b[0m seahash v4.1.0ing bytes: 6.7MiB                               \n",
      "\u001b[K\u001b[1m\u001b[32m  Downloaded\u001b[0m rkyv_derive v0.7.45ytes: 6.4MiB                               \n",
      "\u001b[K\u001b[1m\u001b[32m  Downloaded\u001b[0m proc-macro2 v1.0.95ytes: 6.4MiB                               \n",
      "\u001b[K\u001b[1m\u001b[32m  Downloaded\u001b[0m proc-macro-crate v3.3.0: 6.4MiB                               \n",
      "\u001b[K\u001b[1m\u001b[32m  Downloaded\u001b[0m num-integer v0.1.46ytes: 6.4MiB                               \n",
      "\u001b[K\u001b[1m\u001b[32m  Downloaded\u001b[0m strsim v0.11.1ing bytes: 6.4MiB                               \n",
      "\u001b[K\u001b[1m\u001b[32m  Downloaded\u001b[0m statistical v1.0.0bytes: 6.0MiB                               \n",
      "\u001b[K\u001b[1m\u001b[32m  Downloaded\u001b[0m rand_xorshift v0.1.1tes: 5.7MiB                               \n",
      "\u001b[K\u001b[1m\u001b[32m  Downloaded\u001b[0m rand_pcg v0.1.2ng bytes: 5.3MiB                               \n",
      "\u001b[K\u001b[1m\u001b[32m  Downloaded\u001b[0m rand_jitter v0.1.4bytes: 5.2MiB                               \n",
      "\u001b[K\u001b[1m\u001b[32m  Downloaded\u001b[0m bytes v1.10.1ning bytes: 5.2MiB                               \n",
      "\u001b[K\u001b[1m\u001b[32m  Downloaded\u001b[0m bitvec v1.0.1ning bytes: 5.2MiB                               \n",
      "\u001b[K\u001b[1m\u001b[32m  Downloaded\u001b[0m rand_os v0.1.3ing bytes: 5.2MiB                               \n",
      "\u001b[K\u001b[1m\u001b[32m  Downloaded\u001b[0m libc v0.2.172ning bytes: 5.1MiB                               \n",
      "\u001b[K\u001b[1m\u001b[32m  Downloaded\u001b[0m rand_isaac v0.1.1g libc ...                                   \n",
      "\u001b[K\u001b[1m\u001b[32m  Downloaded\u001b[0m rand_hc v0.1.0ing bytes: 4.9MiB                               \n",
      "\u001b[K\u001b[1m\u001b[32m  Downloaded\u001b[0m hashbrown v0.12.3 bytes: 4.6MiB                               \n",
      "\u001b[K\u001b[1m\u001b[32m  Downloaded\u001b[0m rand_core v0.4.2g bytes: 4.5MiB                               \n",
      "\u001b[K\u001b[1m\u001b[32m  Downloaded\u001b[0m rand_core v0.3.1g bytes: 4.5MiB                               \n",
      "\u001b[K\u001b[1m\u001b[32m  Downloaded\u001b[0m rand_chacha v0.1.1bytes: 4.5MiB                               \n",
      "\u001b[K\u001b[1m\u001b[32m  Downloaded\u001b[0m clap_builder v4.5.39tes: 4.5MiB                               \n",
      "\u001b[K\u001b[1m\u001b[32m  Downloaded\u001b[0m borsh v1.5.7ining bytes: 4.5MiB                               \n",
      "\u001b[K\u001b[1m\u001b[32m  Downloaded\u001b[0m num-rational v0.2.4ytes: 4.5MiB                               \n",
      "\u001b[K\u001b[1m\u001b[32m  Downloaded\u001b[0m num-complex v0.2.4bytes: 4.3MiB                               \n",
      "\u001b[K\u001b[1m\u001b[32m  Downloaded\u001b[0m num v0.2.1maining bytes: 4.2MiB                               \n",
      "\u001b[K\u001b[1m\u001b[32m  Downloaded\u001b[0m indexmap v2.9.0ng bytes: 4.2MiB                               \n",
      "\u001b[K\u001b[1m\u001b[32m  Downloaded\u001b[0m hashbrown v0.15.3 bytes: 4.2MiB                               \n",
      "\u001b[K\u001b[1m\u001b[32m  Downloaded\u001b[0m simdutf8 v0.1.5ng bytes: 4.2MiB                               \n",
      "\u001b[K\u001b[1m\u001b[32m  Downloaded\u001b[0m rkyv v0.7.45ining bytes: 4.1MiB                               \n",
      "\u001b[K\u001b[1m\u001b[32m  Downloaded\u001b[0m memchr v2.7.4ning bytes: 4.0MiB                               \n",
      "\u001b[K\u001b[1m\u001b[32m  Downloaded\u001b[0m nix v0.29.0aining bytes: 4.0MiB                               \n",
      "\u001b[K\u001b[1m\u001b[32m  Downloaded\u001b[0m rust_decimal v1.37.1tes: 3.8MiB                               \n",
      "\u001b[K\u001b[1m\u001b[32m  Downloaded\u001b[0m serde_json v1.0.140ytes: 3.7MiB                               \n",
      "\u001b[K\u001b[1m\u001b[32m  Downloaded\u001b[0m rand v0.8.5aining bytes: 3.6MiB                               \n",
      "\u001b[K\u001b[1m\u001b[32m  Downloaded\u001b[0m unicode-width v0.1.14es: 3.6MiB                               \n",
      "\u001b[K\u001b[1m\u001b[32m  Downloaded\u001b[0m unicode-width v0.2.0tes: 3.4MiB                               \n",
      "\u001b[K\u001b[1m\u001b[32m  Downloaded\u001b[0m winnow v0.7.10ing bytes: 3.2MiB                               \n",
      "\u001b[K\u001b[1m\u001b[32m  Downloaded\u001b[0m serde v1.0.219ing bytes: 3.1MiB                               \n",
      "\u001b[K\u001b[1m\u001b[32m  Downloaded\u001b[0m rustix v1.0.7ing bytes: 2.7MiB                                \n",
      "\u001b[K\u001b[1m\u001b[32m  Downloaded\u001b[0m portable-atomic v1.11.0x ...                                  \n",
      "\u001b[K\u001b[1m\u001b[32m  Downloaded\u001b[0m syn v1.0.109ning bytes: 2.6MiB                                \n",
      "\u001b[K\u001b[1m\u001b[32m  Downloaded\u001b[0m toml_edit v0.22.26ytes: 2.4MiB                                \n",
      "\u001b[K\u001b[1m\u001b[32m  Downloaded\u001b[0m syn v2.0.101ning bytes: 2.2MiB                                \n",
      "\u001b[K\u001b[1m\u001b[32m  Downloaded\u001b[0m csv v1.3.1aining bytes: 2.1MiB                                \n",
      "\u001b[K\u001b[1m\u001b[32m  Downloaded\u001b[0m rand v0.6.5acting csv ...                                     \n",
      "\u001b[K\u001b[1m\u001b[32m  Downloaded\u001b[0m num-bigint v0.2.6bytes: 1.3MiB                                \n",
      "\u001b[K\u001b[1m\u001b[32m  Downloaded\u001b[0m linux-raw-sys v0.9.4s: 1.3MiB                                 \n",
      "\u001b[K\u001b[1m\u001b[32m  Downloaded\u001b[0m 105 crates (9.6MiB) in 2.34s (largest was `linux-raw-sys` at 2.2MiB)\n",
      "\u001b[1m\u001b[32m   Compiling\u001b[0m autocfg v1.4.0\n",
      "\u001b[1m\u001b[32m   Compiling\u001b[0m rustix v1.0.7\n",
      "\u001b[1m\u001b[32m   Compiling\u001b[0m libc v0.2.172\n",
      "\u001b[1m\u001b[32m   Compiling\u001b[0m proc-macro2 v1.0.95\n",
      "\u001b[1m\u001b[32m   Compiling\u001b[0m rand_core v0.4.2\n",
      "\u001b[1m\u001b[32m   Compiling\u001b[0m unicode-ident v1.0.18\n",
      "\u001b[1m\u001b[32m   Compiling\u001b[0m utf8parse v0.2.2\n",
      "\u001b[1m\u001b[32m   Compiling\u001b[0m bitflags v2.9.1\n",
      "\u001b[1m\u001b[32m   Compiling\u001b[0m linux-raw-sys v0.9.4\n",
      "\u001b[1m\u001b[32m   Compiling\u001b[0m anstyle-query v1.1.2\n",
      "\u001b[1m\u001b[32m   Compiling\u001b[0m colorchoice v1.0.3\n",
      "\u001b[1m\u001b[32m   Compiling\u001b[0m is_terminal_polyfill v1.70.1\n",
      "\u001b[1m\u001b[32m   Compiling\u001b[0m anstyle v1.0.10\n",
      "\u001b[1m\u001b[32m   Compiling\u001b[0m cfg-if v1.0.0\n",
      "\u001b[1m\u001b[32m   Compiling\u001b[0m zerocopy v0.8.25\n",
      "\u001b[1m\u001b[32m   Compiling\u001b[0m serde v1.0.219\n",
      "\u001b[1m\u001b[32m   Compiling\u001b[0m clap_lex v0.7.4\n",
      "\u001b[1m\u001b[32m   Compiling\u001b[0m strsim v0.11.1\n",
      "\u001b[K\u001b[1m\u001b[32m   Compiling\u001b[0m anstyle-parse v0.2.6     ] 1/128: rand_core, linux-raw-sys,...\n",
      "\u001b[K\u001b[1m\u001b[32m   Compiling\u001b[0m portable-atomic v1.11.0  ] 5/128: rand_core, linux-raw-sys,...\n",
      "\u001b[K\u001b[1m\u001b[32m   Compiling\u001b[0m cfg_aliases v0.2.1       ] 7/128: rand_core, linux-raw-sys,...\n",
      "\u001b[K\u001b[1m\u001b[32m   Compiling\u001b[0m rand_core v0.3.1         ] 8/128: rand_core, linux-raw-sys,...\n",
      "\u001b[K\u001b[1m\u001b[32m   Compiling\u001b[0m memchr v2.7.4            ] 9/128: rand_core, linux-raw-sys,...\n",
      "\u001b[K\u001b[1m\u001b[32m   Compiling\u001b[0m anstream v0.6.18        ] 11/128: rand_core, linux-raw-sys,...\n",
      "\u001b[1m\u001b[32m   Compiling\u001b[0m rand_hc v0.1.0\n",
      "\u001b[K\u001b[1m\u001b[32m   Compiling\u001b[0m rand_isaac v0.1.1       ] 13/128: linux-raw-sys, linux-raw-...\n",
      "\u001b[K\u001b[1m\u001b[32m   Compiling\u001b[0m rand_xorshift v0.1.1    ] 14/128: linux-raw-sys, linux-raw-...\n",
      "\u001b[K\u001b[1m\u001b[32m   Compiling\u001b[0m nix v0.29.0             ] 15/128: linux-raw-sys, linux-raw-...\n",
      "\u001b[K\u001b[1m\u001b[32m   Compiling\u001b[0m autocfg v0.1.8          ] 16/128: linux-raw-sys, linux-raw-...\n",
      "\u001b[K\u001b[1m\u001b[32m   Compiling\u001b[0m rand_jitter v0.1.4      ] 17/128: linux-raw-sys, linux-raw-...\n",
      "\u001b[K\u001b[1m\u001b[32m   Compiling\u001b[0m serde_json v1.0.140     ] 18/128: linux-raw-sys, linux-raw-...\n",
      "\u001b[K\u001b[1m\u001b[32m   Compiling\u001b[0m rust_decimal v1.37.1    ] 20/128: linux-raw-sys, linux-raw-...\n",
      "\u001b[K\u001b[1m\u001b[32m   Compiling\u001b[0m unicode-width v0.2.0    ] 22/128: clap_lex, linux-raw-sys, ...\n",
      "\u001b[K\u001b[1m\u001b[32m   Compiling\u001b[0m ryu v1.0.20             ] 23/128: clap_lex, linux-raw-sys, ...\n",
      "\u001b[K\u001b[1m\u001b[32m   Compiling\u001b[0m thiserror v2.0.12       ] 24/128: clap_lex, linux-raw-sys, ...\n",
      "\u001b[K\u001b[1m\u001b[32m   Compiling\u001b[0m num-traits v0.2.19      ] 25/128: clap_lex, linux-raw-sys, ...\n",
      "\u001b[K\u001b[1m\u001b[32m   Compiling\u001b[0m num-bigint v0.2.6       ] 26/128: clap_lex, linux-raw-sys, ...\n",
      "\u001b[K\u001b[1m\u001b[32m   Compiling\u001b[0m num-complex v0.2.4      ] 27/128: clap_lex, linux-raw-sys, ...\n",
      "\u001b[K\u001b[1m\u001b[32m   Compiling\u001b[0m rand_pcg v0.1.2         ] 28/128: clap_lex, linux-raw-sys, ...\n",
      "\u001b[K\u001b[1m\u001b[32m   Compiling\u001b[0m rand_chacha v0.1.1      ] 35/128: clap_lex, linux-raw-sys, ...\n",
      "\u001b[K\u001b[1m\u001b[32m   Compiling\u001b[0m num-rational v0.2.4     ] 36/128: clap_lex, rand_chacha(bui...\n",
      "\u001b[K\u001b[1m\u001b[32m   Compiling\u001b[0m rand v0.6.5             ] 40/128: clap_lex, rand_chacha(bui...\n",
      "\u001b[K\u001b[1m\u001b[32m   Compiling\u001b[0m anyhow v1.0.98          ] 41/128: clap_lex, rand_chacha(bui...\n",
      "\u001b[K\u001b[1m\u001b[32m   Compiling\u001b[0m once_cell v1.21.3       ] 45/128: rand_chacha(build.rs), ru...\n",
      "\u001b[K\u001b[1m\u001b[32m   Compiling\u001b[0m itoa v1.0.15            ] 48/128: rand_chacha(build.rs), ru...\n",
      "\u001b[K\u001b[1m\u001b[32m   Compiling\u001b[0m number_prefix v0.4.0    ] 55/128: rand_chacha(build.rs), ru...\n",
      "\u001b[K\u001b[1m\u001b[32m   Compiling\u001b[0m unicode-width v0.1.14   ] 58/128: rand_chacha(build.rs), ru...\n",
      "\u001b[K\u001b[1m\u001b[32m   Compiling\u001b[0m lazy_static v1.5.0      ] 60/128: rand_chacha(build.rs), ru...\n",
      "\u001b[K\u001b[1m\u001b[32m   Compiling\u001b[0m arrayvec v0.7.6         ] 62/128: lazy_static, rand_chacha(...\n",
      "\u001b[K\u001b[1m\u001b[32m   Compiling\u001b[0m colored v2.2.0          ] 63/128: lazy_static, rand_chacha(...\n",
      "\u001b[K\u001b[1m\u001b[32m   Compiling\u001b[0m shell-words v1.1.0      ] 65/128: lazy_static, rustix, zero...\n",
      "\u001b[K\u001b[1m\u001b[32m   Compiling\u001b[0m csv-core v0.1.12        ] 67/128: rustix, zerocopy, colored...\n",
      "\u001b[K\u001b[1m\u001b[32m   Compiling\u001b[0m quote v1.0.40>          ] 80/128: csv-core, rustix, zerocop...\n",
      "\u001b[K\u001b[1m\u001b[32m   Compiling\u001b[0m syn v2.0.101=>          ] 82/128: rustix, zerocopy, colored...\n",
      "\u001b[K\u001b[1m\u001b[32m   Compiling\u001b[0m terminal_size v0.4.2    ] 83/128: rustix, zerocopy, colored...\n",
      "\u001b[K\u001b[1m\u001b[32m   Compiling\u001b[0m clap_builder v4.5.39    ] 86/128: rustix, zerocopy, anyhow,...\n",
      "\u001b[K\u001b[1m\u001b[32m   Compiling\u001b[0m num-integer v0.1.46     ] 90/128: zerocopy, anyhow, clap_bu...\n",
      "\u001b[K\u001b[1m\u001b[32m   Compiling\u001b[0m num-iter v0.1.45        ] 93/128: zerocopy, num-complex, cl...\n",
      "\u001b[K\u001b[1m\u001b[32m   Compiling\u001b[0m getrandom v0.2.16       ] 96/128: zerocopy, num-bigint, cla...\n",
      "\u001b[1m\u001b[32m   Compiling\u001b[0m rand_os v0.1.3\n",
      "\u001b[1m\u001b[32m   Compiling\u001b[0m console v0.15.11\n",
      "\u001b[K\u001b[1m\u001b[32m   Compiling\u001b[0m rand_core v0.6.4>       ] 96/128: zerocopy, rand_os, num-bi...\n",
      "\u001b[K\u001b[1m\u001b[32m   Compiling\u001b[0m ppv-lite86 v0.2.21      ] 99/128: zerocopy, num-bigint, con...\n",
      "\u001b[K\u001b[1m\u001b[32m   Compiling\u001b[0m indicatif v0.17.4      ] 101/128: num-bigint, console, clap...\n",
      "\u001b[K\u001b[1m\u001b[32m   Compiling\u001b[0m rand_chacha v0.3.1     ] 101/128: num-bigint, console, clap...\n",
      "\u001b[K\u001b[1m\u001b[32m   Compiling\u001b[0m rand v0.8.5=====>      ] 102/128: num-bigint, num-rational,...\n",
      "\u001b[K\u001b[1m\u001b[32m   Compiling\u001b[0m num v0.2.1======>      ] 102/128: num-bigint, num-rational,...\n",
      "\u001b[K\u001b[1m\u001b[32m   Compiling\u001b[0m statistical v1.0.0     ] 102/128: num-bigint, num-rational,...\n",
      "\u001b[K\u001b[1m\u001b[32m   Compiling\u001b[0m clap v4.5.39=====>     ] 107/128: num-bigint, num-rational,...\n",
      "\u001b[K\u001b[1m\u001b[32m   Compiling\u001b[0m clap_complete v4.5.52  ] 107/128: num-bigint, num-rational,...\n",
      "\u001b[K\u001b[1m\u001b[32m   Compiling\u001b[0m hyperfine v1.19.0==>   ] 113/128: clap_builder, syn, clap_c...\n",
      "\u001b[K\u001b[1m\u001b[32m   Compiling\u001b[0m serde_derive v1.0.219  ] 114/128: clap_builder, syn, hyperf...\n",
      "\u001b[1m\u001b[32m   Compiling\u001b[0m thiserror-impl v2.0.12\n",
      "\u001b[K\u001b[1m\u001b[32m   Compiling\u001b[0m csv v1.3.1==========>  ] 122/128: serde, clap_builder         \n",
      "\u001b[K\u001b[1m\u001b[32m    Finished\u001b[0m `release` profile [optimized] target(s) in 24.36s             \n",
      "\u001b[1m\u001b[32m  Installing\u001b[0m /home/songaixuan/.cargo/bin/hyperfine\n",
      "\u001b[1m\u001b[32m   Installed\u001b[0m package `hyperfine v1.19.0` (executable `hyperfine`)\n"
     ]
    }
   ],
   "source": [
    "!~/.cargo/bin/cargo install hyperfine\n",
    "\n"
   ]
  },
  {
   "cell_type": "markdown",
   "id": "45cefa6f",
   "metadata": {},
   "source": [
    "有了以上的准备工作，我们终于可以开始我们的探索之旅了。"
   ]
  },
  {
   "cell_type": "code",
   "execution_count": 1,
   "id": "7e0a2d56",
   "metadata": {},
   "outputs": [],
   "source": [
    "import os\n",
    "os.environ['PATH'] += os.pathsep + os.path.expanduser('~/.cargo/bin')\n"
   ]
  },
  {
   "cell_type": "code",
   "execution_count": 2,
   "id": "e729a4a0",
   "metadata": {},
   "outputs": [
    {
     "name": "stdout",
     "output_type": "stream",
     "text": [
      "hyperfine 1.19.0\n"
     ]
    }
   ],
   "source": [
    "!hyperfine --version\n"
   ]
  },
  {
   "cell_type": "markdown",
   "id": "9c1afa63",
   "metadata": {},
   "source": [
    "## 任务0: 测量cat的效率\n",
    "\n",
    "你要做的第一个任务十分简单。学习一下如何使用`hyperfine`，并且使用它来测试GNU coreutils中的cat输出我们生成的测试文件`test.txt`的时间。运行下面的单元格来运行测试。"
   ]
  },
  {
   "cell_type": "code",
   "execution_count": 3,
   "id": "4af9a82b",
   "metadata": {},
   "outputs": [
    {
     "name": "stdout",
     "output_type": "stream",
     "text": [
      "Benchmark 1: cat test.txt\n",
      "  Time (mean ± σ):     201.2 ms ±   3.0 ms    [User: 2.6 ms, System: 198.7 ms]\n",
      "  Range (min … max):   195.9 ms … 206.9 ms    14 runs\n",
      " \n"
     ]
    }
   ],
   "source": [
    "%%bash\n",
    "hyperfine --warmup 3 'cat test.txt'"
   ]
  },
  {
   "cell_type": "markdown",
   "id": "cd94fe5a",
   "metadata": {},
   "source": [
    "## 任务1: 写一个最朴素的cat\n",
    "\n",
    "我们现在使用`hyperfine`测量了GNU coreutils中的`cat`的运行效率，但是对于这个运行时间，我们可能并没有什么概念。现在我们将会写一个最朴素的`cat`程序来作为baseline。这个程序需要满足一下要求：\n",
    "1. 把你的源代码命名为`mycat1.c`或者`mycat1.rs`，并且可执行的二进制文件命名为`mycat1`。\n",
    "2. 你的程序接受且只接受一个命令行参数，这个参数是你要读取的文件。\n",
    "3. 你的程序直接使用`read`和`write`系统调用，每次读取并输出一个字符，不使用任何缓冲区。\n",
    "4. 使用`hpyerfine`测量`mycat1`和`cat`运行时间（`mycat1`的运行时间可能会非常长）\n",
    "5. 虽然这是一个很简单的程序，但是请仍然保持系统编程的规范。请在你的代码中进行进行所有必要的错误处理。\n",
    "\n",
    "这个任务不需要在文档中包含任何内容。"
   ]
  },
  {
   "cell_type": "code",
   "execution_count": 3,
   "id": "124223b9",
   "metadata": {},
   "outputs": [
    {
     "name": "stdout",
     "output_type": "stream",
     "text": [
      "Benchmark 1: ./target/mycat1 test.txt\n"
     ]
    },
    {
     "ename": "TypeError",
     "evalue": "%d format: a real number is required, not NoneType",
     "output_type": "error",
     "traceback": [
      "\u001b[31m---------------------------------------------------------------------------\u001b[39m",
      "\u001b[31mCalledProcessError\u001b[39m                        Traceback (most recent call last)",
      "    \u001b[31m[... skipping hidden 1 frame]\u001b[39m\n",
      "\u001b[36mCell\u001b[39m\u001b[36m \u001b[39m\u001b[32mIn[4]\u001b[39m\u001b[32m, line 1\u001b[39m\n\u001b[32m----> \u001b[39m\u001b[32m1\u001b[39m \u001b[43mget_ipython\u001b[49m\u001b[43m(\u001b[49m\u001b[43m)\u001b[49m\u001b[43m.\u001b[49m\u001b[43mrun_cell_magic\u001b[49m\u001b[43m(\u001b[49m\u001b[33;43m'\u001b[39;49m\u001b[33;43mbash\u001b[39;49m\u001b[33;43m'\u001b[39;49m\u001b[43m,\u001b[49m\u001b[43m \u001b[49m\u001b[33;43m'\u001b[39;49m\u001b[33;43m'\u001b[39;49m\u001b[43m,\u001b[49m\u001b[43m \u001b[49m\u001b[33;43m\"\u001b[39;49m\u001b[33;43mhyperfine --warmup 3 --runs 1 \u001b[39;49m\u001b[33;43m'\u001b[39;49m\u001b[33;43m./target/mycat1 test.txt\u001b[39;49m\u001b[33;43m'\u001b[39;49m\u001b[38;5;130;43;01m\\n\u001b[39;49;00m\u001b[33;43m\"\u001b[39;49m\u001b[43m)\u001b[49m\n",
      "\u001b[36mFile \u001b[39m\u001b[32m~/meowhw-foreverS01x/.venv/lib/python3.12/site-packages/IPython/core/interactiveshell.py:2547\u001b[39m, in \u001b[36mInteractiveShell.run_cell_magic\u001b[39m\u001b[34m(self, magic_name, line, cell)\u001b[39m\n\u001b[32m   2546\u001b[39m     args = (magic_arg_s, cell)\n\u001b[32m-> \u001b[39m\u001b[32m2547\u001b[39m     result = \u001b[43mfn\u001b[49m\u001b[43m(\u001b[49m\u001b[43m*\u001b[49m\u001b[43margs\u001b[49m\u001b[43m,\u001b[49m\u001b[43m \u001b[49m\u001b[43m*\u001b[49m\u001b[43m*\u001b[49m\u001b[43mkwargs\u001b[49m\u001b[43m)\u001b[49m\n\u001b[32m   2549\u001b[39m \u001b[38;5;66;03m# The code below prevents the output from being displayed\u001b[39;00m\n\u001b[32m   2550\u001b[39m \u001b[38;5;66;03m# when using magics with decorator @output_can_be_silenced\u001b[39;00m\n\u001b[32m   2551\u001b[39m \u001b[38;5;66;03m# when the last Python token in the expression is a ';'.\u001b[39;00m\n",
      "\u001b[36mFile \u001b[39m\u001b[32m~/meowhw-foreverS01x/.venv/lib/python3.12/site-packages/IPython/core/magics/script.py:159\u001b[39m, in \u001b[36mScriptMagics._make_script_magic.<locals>.named_script_magic\u001b[39m\u001b[34m(line, cell)\u001b[39m\n\u001b[32m    158\u001b[39m     line = script\n\u001b[32m--> \u001b[39m\u001b[32m159\u001b[39m \u001b[38;5;28;01mreturn\u001b[39;00m \u001b[38;5;28;43mself\u001b[39;49m\u001b[43m.\u001b[49m\u001b[43mshebang\u001b[49m\u001b[43m(\u001b[49m\u001b[43mline\u001b[49m\u001b[43m,\u001b[49m\u001b[43m \u001b[49m\u001b[43mcell\u001b[49m\u001b[43m)\u001b[49m\n",
      "\u001b[36mFile \u001b[39m\u001b[32m~/meowhw-foreverS01x/.venv/lib/python3.12/site-packages/IPython/core/magics/script.py:327\u001b[39m, in \u001b[36mScriptMagics.shebang\u001b[39m\u001b[34m(self, line, cell)\u001b[39m\n\u001b[32m    326\u001b[39m \u001b[38;5;28;01mif\u001b[39;00m args.raise_error:\n\u001b[32m--> \u001b[39m\u001b[32m327\u001b[39m     \u001b[38;5;28;01mraise\u001b[39;00m CalledProcessError(p.returncode, cell) \u001b[38;5;28;01mfrom\u001b[39;00m\u001b[38;5;250m \u001b[39m\u001b[38;5;28;01mNone\u001b[39;00m\n\u001b[32m    328\u001b[39m \u001b[38;5;28;01melse\u001b[39;00m:\n",
      "\u001b[31m<class 'str'>\u001b[39m: (<class 'TypeError'>, TypeError('%d format: a real number is required, not NoneType'))",
      "\nDuring handling of the above exception, another exception occurred:\n",
      "\u001b[31mTypeError\u001b[39m                                 Traceback (most recent call last)",
      "    \u001b[31m[... skipping hidden 1 frame]\u001b[39m\n",
      "\u001b[36mFile \u001b[39m\u001b[32m~/meowhw-foreverS01x/.venv/lib/python3.12/site-packages/IPython/core/interactiveshell.py:2187\u001b[39m, in \u001b[36mInteractiveShell.showtraceback\u001b[39m\u001b[34m(self, exc_tuple, filename, tb_offset, exception_only, running_compiled_code)\u001b[39m\n\u001b[32m   2184\u001b[39m         traceback.print_exc()\n\u001b[32m   2185\u001b[39m         \u001b[38;5;28;01mreturn\u001b[39;00m \u001b[38;5;28;01mNone\u001b[39;00m\n\u001b[32m-> \u001b[39m\u001b[32m2187\u001b[39m     \u001b[38;5;28;43mself\u001b[39;49m\u001b[43m.\u001b[49m\u001b[43m_showtraceback\u001b[49m\u001b[43m(\u001b[49m\u001b[43metype\u001b[49m\u001b[43m,\u001b[49m\u001b[43m \u001b[49m\u001b[43mvalue\u001b[49m\u001b[43m,\u001b[49m\u001b[43m \u001b[49m\u001b[43mstb\u001b[49m\u001b[43m)\u001b[49m\n\u001b[32m   2188\u001b[39m \u001b[38;5;28;01mif\u001b[39;00m \u001b[38;5;28mself\u001b[39m.call_pdb:\n\u001b[32m   2189\u001b[39m     \u001b[38;5;66;03m# drop into debugger\u001b[39;00m\n\u001b[32m   2190\u001b[39m     \u001b[38;5;28mself\u001b[39m.debugger(force=\u001b[38;5;28;01mTrue\u001b[39;00m)\n",
      "\u001b[36mFile \u001b[39m\u001b[32m~/meowhw-foreverS01x/.venv/lib/python3.12/site-packages/ipykernel/zmqshell.py:559\u001b[39m, in \u001b[36mZMQInteractiveShell._showtraceback\u001b[39m\u001b[34m(self, etype, evalue, stb)\u001b[39m\n\u001b[32m    553\u001b[39m sys.stdout.flush()\n\u001b[32m    554\u001b[39m sys.stderr.flush()\n\u001b[32m    556\u001b[39m exc_content = {\n\u001b[32m    557\u001b[39m     \u001b[33m\"\u001b[39m\u001b[33mtraceback\u001b[39m\u001b[33m\"\u001b[39m: stb,\n\u001b[32m    558\u001b[39m     \u001b[33m\"\u001b[39m\u001b[33mename\u001b[39m\u001b[33m\"\u001b[39m: \u001b[38;5;28mstr\u001b[39m(etype.\u001b[34m__name__\u001b[39m),\n\u001b[32m--> \u001b[39m\u001b[32m559\u001b[39m     \u001b[33m\"\u001b[39m\u001b[33mevalue\u001b[39m\u001b[33m\"\u001b[39m: \u001b[38;5;28;43mstr\u001b[39;49m\u001b[43m(\u001b[49m\u001b[43mevalue\u001b[49m\u001b[43m)\u001b[49m,\n\u001b[32m    560\u001b[39m }\n\u001b[32m    562\u001b[39m dh = \u001b[38;5;28mself\u001b[39m.displayhook\n\u001b[32m    563\u001b[39m \u001b[38;5;66;03m# Send exception info over pub socket for other clients than the caller\u001b[39;00m\n\u001b[32m    564\u001b[39m \u001b[38;5;66;03m# to pick up\u001b[39;00m\n",
      "\u001b[36mFile \u001b[39m\u001b[32m/usr/lib/python3.12/subprocess.py:148\u001b[39m, in \u001b[36mCalledProcessError.__str__\u001b[39m\u001b[34m(self)\u001b[39m\n\u001b[32m    145\u001b[39m         \u001b[38;5;28;01mreturn\u001b[39;00m \u001b[33m\"\u001b[39m\u001b[33mCommand \u001b[39m\u001b[33m'\u001b[39m\u001b[38;5;132;01m%s\u001b[39;00m\u001b[33m'\u001b[39m\u001b[33m died with unknown signal \u001b[39m\u001b[38;5;132;01m%d\u001b[39;00m\u001b[33m.\u001b[39m\u001b[33m\"\u001b[39m % (\n\u001b[32m    146\u001b[39m                 \u001b[38;5;28mself\u001b[39m.cmd, -\u001b[38;5;28mself\u001b[39m.returncode)\n\u001b[32m    147\u001b[39m \u001b[38;5;28;01melse\u001b[39;00m:\n\u001b[32m--> \u001b[39m\u001b[32m148\u001b[39m     \u001b[38;5;28;01mreturn\u001b[39;00m \u001b[33;43m\"\u001b[39;49m\u001b[33;43mCommand \u001b[39;49m\u001b[33;43m'\u001b[39;49m\u001b[38;5;132;43;01m%s\u001b[39;49;00m\u001b[33;43m'\u001b[39;49m\u001b[33;43m returned non-zero exit status \u001b[39;49m\u001b[38;5;132;43;01m%d\u001b[39;49;00m\u001b[33;43m.\u001b[39;49m\u001b[33;43m\"\u001b[39;49m\u001b[43m \u001b[49m\u001b[43m%\u001b[49m\u001b[43m \u001b[49m\u001b[43m(\u001b[49m\n\u001b[32m    149\u001b[39m \u001b[43m            \u001b[49m\u001b[38;5;28;43mself\u001b[39;49m\u001b[43m.\u001b[49m\u001b[43mcmd\u001b[49m\u001b[43m,\u001b[49m\u001b[43m \u001b[49m\u001b[38;5;28;43mself\u001b[39;49m\u001b[43m.\u001b[49m\u001b[43mreturncode\u001b[49m\u001b[43m)\u001b[49m\n",
      "\u001b[31mTypeError\u001b[39m: %d format: a real number is required, not NoneType"
     ]
    },
    {
     "ename": "TypeError",
     "evalue": "%d format: a real number is required, not NoneType",
     "output_type": "error",
     "traceback": [
      "\u001b[31m---------------------------------------------------------------------------\u001b[39m",
      "\u001b[31mTypeError\u001b[39m                                 Traceback (most recent call last)",
      "\u001b[36mFile \u001b[39m\u001b[32m~/meowhw-foreverS01x/.venv/lib/python3.12/site-packages/IPython/core/async_helpers.py:128\u001b[39m, in \u001b[36m_pseudo_sync_runner\u001b[39m\u001b[34m(coro)\u001b[39m\n\u001b[32m    120\u001b[39m \u001b[38;5;250m\u001b[39m\u001b[33;03m\"\"\"\u001b[39;00m\n\u001b[32m    121\u001b[39m \u001b[33;03mA runner that does not really allow async execution, and just advance the coroutine.\u001b[39;00m\n\u001b[32m    122\u001b[39m \n\u001b[32m   (...)\u001b[39m\u001b[32m    125\u001b[39m \u001b[33;03mCredit to Nathaniel Smith\u001b[39;00m\n\u001b[32m    126\u001b[39m \u001b[33;03m\"\"\"\u001b[39;00m\n\u001b[32m    127\u001b[39m \u001b[38;5;28;01mtry\u001b[39;00m:\n\u001b[32m--> \u001b[39m\u001b[32m128\u001b[39m     \u001b[43mcoro\u001b[49m\u001b[43m.\u001b[49m\u001b[43msend\u001b[49m\u001b[43m(\u001b[49m\u001b[38;5;28;43;01mNone\u001b[39;49;00m\u001b[43m)\u001b[49m\n\u001b[32m    129\u001b[39m \u001b[38;5;28;01mexcept\u001b[39;00m \u001b[38;5;167;01mStopIteration\u001b[39;00m \u001b[38;5;28;01mas\u001b[39;00m exc:\n\u001b[32m    130\u001b[39m     \u001b[38;5;28;01mreturn\u001b[39;00m exc.value\n",
      "\u001b[36mFile \u001b[39m\u001b[32m~/meowhw-foreverS01x/.venv/lib/python3.12/site-packages/IPython/core/interactiveshell.py:3384\u001b[39m, in \u001b[36mInteractiveShell.run_cell_async\u001b[39m\u001b[34m(self, raw_cell, store_history, silent, shell_futures, transformed_cell, preprocessing_exc_tuple, cell_id)\u001b[39m\n\u001b[32m   3380\u001b[39m exec_count = \u001b[38;5;28mself\u001b[39m.execution_count\n\u001b[32m   3381\u001b[39m \u001b[38;5;28;01mif\u001b[39;00m result.error_in_exec:\n\u001b[32m   3382\u001b[39m     \u001b[38;5;66;03m# Store formatted traceback and error details\u001b[39;00m\n\u001b[32m   3383\u001b[39m     \u001b[38;5;28mself\u001b[39m.history_manager.exceptions[exec_count] = (\n\u001b[32m-> \u001b[39m\u001b[32m3384\u001b[39m         \u001b[38;5;28;43mself\u001b[39;49m\u001b[43m.\u001b[49m\u001b[43m_format_exception_for_storage\u001b[49m\u001b[43m(\u001b[49m\u001b[43mresult\u001b[49m\u001b[43m.\u001b[49m\u001b[43merror_in_exec\u001b[49m\u001b[43m)\u001b[49m\n\u001b[32m   3385\u001b[39m     )\n\u001b[32m   3387\u001b[39m \u001b[38;5;66;03m# Each cell is a *single* input, regardless of how many lines it has\u001b[39;00m\n\u001b[32m   3388\u001b[39m \u001b[38;5;28mself\u001b[39m.execution_count += \u001b[32m1\u001b[39m\n",
      "\u001b[36mFile \u001b[39m\u001b[32m~/meowhw-foreverS01x/.venv/lib/python3.12/site-packages/IPython/core/interactiveshell.py:3445\u001b[39m, in \u001b[36mInteractiveShell._format_exception_for_storage\u001b[39m\u001b[34m(self, exception, filename, running_compiled_code)\u001b[39m\n\u001b[32m   3441\u001b[39m         \u001b[38;5;28;01mexcept\u001b[39;00m \u001b[38;5;167;01mException\u001b[39;00m:\n\u001b[32m   3442\u001b[39m             \u001b[38;5;66;03m# In case formatting fails, fallback to Python's built-in formatting.\u001b[39;00m\n\u001b[32m   3443\u001b[39m             stb = traceback.format_exception(etype, evalue, tb)\n\u001b[32m-> \u001b[39m\u001b[32m3445\u001b[39m \u001b[38;5;28;01mreturn\u001b[39;00m {\u001b[33m\"\u001b[39m\u001b[33mename\u001b[39m\u001b[33m\"\u001b[39m: etype.\u001b[34m__name__\u001b[39m, \u001b[33m\"\u001b[39m\u001b[33mevalue\u001b[39m\u001b[33m\"\u001b[39m: \u001b[38;5;28;43mstr\u001b[39;49m\u001b[43m(\u001b[49m\u001b[43mevalue\u001b[49m\u001b[43m)\u001b[49m, \u001b[33m\"\u001b[39m\u001b[33mtraceback\u001b[39m\u001b[33m\"\u001b[39m: stb}\n",
      "\u001b[36mFile \u001b[39m\u001b[32m/usr/lib/python3.12/subprocess.py:148\u001b[39m, in \u001b[36mCalledProcessError.__str__\u001b[39m\u001b[34m(self)\u001b[39m\n\u001b[32m    145\u001b[39m         \u001b[38;5;28;01mreturn\u001b[39;00m \u001b[33m\"\u001b[39m\u001b[33mCommand \u001b[39m\u001b[33m'\u001b[39m\u001b[38;5;132;01m%s\u001b[39;00m\u001b[33m'\u001b[39m\u001b[33m died with unknown signal \u001b[39m\u001b[38;5;132;01m%d\u001b[39;00m\u001b[33m.\u001b[39m\u001b[33m\"\u001b[39m % (\n\u001b[32m    146\u001b[39m                 \u001b[38;5;28mself\u001b[39m.cmd, -\u001b[38;5;28mself\u001b[39m.returncode)\n\u001b[32m    147\u001b[39m \u001b[38;5;28;01melse\u001b[39;00m:\n\u001b[32m--> \u001b[39m\u001b[32m148\u001b[39m     \u001b[38;5;28;01mreturn\u001b[39;00m \u001b[33;43m\"\u001b[39;49m\u001b[33;43mCommand \u001b[39;49m\u001b[33;43m'\u001b[39;49m\u001b[38;5;132;43;01m%s\u001b[39;49;00m\u001b[33;43m'\u001b[39;49m\u001b[33;43m returned non-zero exit status \u001b[39;49m\u001b[38;5;132;43;01m%d\u001b[39;49;00m\u001b[33;43m.\u001b[39;49m\u001b[33;43m\"\u001b[39;49m\u001b[43m \u001b[49m\u001b[43m%\u001b[49m\u001b[43m \u001b[49m\u001b[43m(\u001b[49m\n\u001b[32m    149\u001b[39m \u001b[43m            \u001b[49m\u001b[38;5;28;43mself\u001b[39;49m\u001b[43m.\u001b[49m\u001b[43mcmd\u001b[49m\u001b[43m,\u001b[49m\u001b[43m \u001b[49m\u001b[38;5;28;43mself\u001b[39;49m\u001b[43m.\u001b[49m\u001b[43mreturncode\u001b[49m\u001b[43m)\u001b[49m\n",
      "\u001b[31mTypeError\u001b[39m: %d format: a real number is required, not NoneType"
     ]
    }
   ],
   "source": [
    "%%bash\n",
    "hyperfine --warmup 3 --runs 1 './target/mycat1 test.txt'"
   ]
  },
  {
   "cell_type": "markdown",
   "id": "7105038c",
   "metadata": {},
   "source": [
    "## 任务2: 带有缓冲区的cat\n",
    "\n",
    "如果你正确完成了上面的任务，你会发现，`mycat1`的性能和系统中的`cat`的性能相差甚远。但是经过了ics课程的学习，你肯定已经想到了至少一个解决方案——使用缓冲区。缓冲区可以有效减少反复进行系统调用的性能消耗。但是，我们要面临的第二个问题是：缓冲区的大小应该如何设置呢？我们接下来将一步一步地探索这个问题。\n",
    "\n",
    "我们之前肯定也已经讲过不少涉及IO缓冲区的程序了，它们的缓冲区大小都被设置为多少呢？我相信1024, 4096, 8192一定是比较常见的几个数字。经过ics的学习，我相信你们肯定能说出原因了。那么，这个任务，我们将根据这个原理优化我们的`mycat1`。你至少需要完成下面要求：\n",
    "1. 复制你上一个任务的源代码在上面做修改，并把源代码命名为`mycat2.c`/`mycat2.rs`，可执行二进制文件命名为`mycat2`。\n",
    "2. 写一个`io_blocksize`函数用于确定你的缓冲区的大小，在这个任务中，你可以将缓冲区设置成你当前系统中一个内存页的大小。（注意：你不能假设所有系统中内存页的大小都是4K，请你使用一个系统调用或者标准库中的函数来获取内存页的大小，而不要使用一个固定值。不过允许你使用一个固定值，如果获取内存页发生错误，但是这不应该是一个常见的情况）。\n",
    "3. 使用标准库提供的函数动态分配用于缓冲区的内存。\n",
    "4. 使用`hpyerfine`测量`mycat2`的运行时间\n",
    "5. 请保持系统编程的基本规范。\n",
    "\n",
    "这个任务不需要在文档中包含任何内容。"
   ]
  },
  {
   "cell_type": "code",
   "execution_count": 4,
   "id": "ac23d60f",
   "metadata": {},
   "outputs": [
    {
     "name": "stdout",
     "output_type": "stream",
     "text": [
      "ERROR! Session/line number was not unique in database. History logging moved to new session 11\n",
      "Benchmark 1: ./target/mycat2 test.txt\n",
      "  Time (mean ± σ):     381.8 ms ±   2.7 ms    [User: 40.1 ms, System: 341.2 ms]\n",
      "  Range (min … max):   379.2 ms … 388.4 ms    10 runs\n",
      " \n"
     ]
    }
   ],
   "source": [
    "%%bash\n",
    "hyperfine --warmup 3 './target/mycat2 test.txt'"
   ]
  },
  {
   "cell_type": "markdown",
   "id": "c5630499",
   "metadata": {},
   "source": [
    "## 任务3: 缓冲区对齐的cat\n",
    "\n",
    "如果你正确完成了上面这个任务，你会发现，添加了缓冲区的`mycat2`性能提升十分显著。但是我们还可以进一步优化。实际上只是添加了缓冲区并且设置缓冲区的大小为内存页的整数倍并不是没有什么太多的意义，这样的设置只是为了这个一个任务做铺垫的。在这个任务中，我们将尝试将我们的缓冲区对齐到系统的内存页。至于为什么要这么做，请大家在自己的文档中分析一下。你至少需要完成以下要求：\n",
    "1. 复制你上一个任务的源代码在上面做修改，并把源代码命名为`mycat3.c`/`mycat3.rs`，可执行二进制文件命名为`mycat3`。\n",
    "2. 写两个函数`char* align_alloc(size_t size)`和`void align_free(void* ptr)`，它们的作用分别是分配一段内存，长度不小于`size`并且返回一个对齐到内存页起始的指针`ptr`，以及给出一个先前从`align_alloc`返回的指针并释放之前分配的内存。\n",
    "3. 利用这两个函数修改你的代码，缓冲区的大小仍然设置成一个内存页的大小。\n",
    "4. 使用`hpyerfine`测量`mycat3`的运行时间\n",
    "5. 请保持系统编程的基本规范。\n",
    "\n",
    "这个任务，你需要在文档中回答以下问题：\n",
    "1. 为什么将缓冲区对齐到系统的内存可能提高性能？你的实验结果支持这个猜想吗？为什么？\n",
    "   \n",
    "   Answer: *内存页对齐可以让内存访问更高效，减少TLB miss和cache miss，某些底层优化（如DMA、SIMD）也要求对齐。实验结果通常在大文件和高并发IO下更明显，但现代操作系统和硬件对未对齐访问优化较好，提升有限。*\n",
    "\n",
    "2. 为什么我们直接使用`malloc`函数分配的内存不能对齐到内存页，即使我们分配的内存大小已经是内存页大小的整数倍了。\n",
    "   \n",
    "   Answer: *malloc只保证最小对齐（如8/16字节），不保证页对齐。只有posix_memalign等API能保证页对齐。*\n",
    "3. 你是怎么在不知道原始的malloc返回的指针的情况下正确释放内存的？\n",
    "   \n",
    "   Answer: *在align_alloc中，分配的原始指针存储在对齐指针前面（((void**)aligned_ptr)[-1]），释放时取出原始指针并free。*"
   ]
  },
  {
   "cell_type": "code",
   "execution_count": 5,
   "id": "cc9a08fd",
   "metadata": {},
   "outputs": [
    {
     "name": "stdout",
     "output_type": "stream",
     "text": [
      "Benchmark 1: ./target/mycat3 test.txt\n",
      "  Time (mean ± σ):     382.9 ms ±   2.7 ms    [User: 50.4 ms, System: 332.2 ms]\n",
      "  Range (min … max):   377.8 ms … 387.0 ms    10 runs\n",
      " \n"
     ]
    }
   ],
   "source": [
    "%%bash\n",
    "hyperfine --warmup 3 './target/mycat3 test.txt'"
   ]
  },
  {
   "cell_type": "markdown",
   "id": "45070667",
   "metadata": {},
   "source": [
    "## 任务4: 设置缓冲区大小为文件系统块大小的整数倍的cat\n",
    "\n",
    "由于`cat`是涉及文件操作的，所以我们自然不能离开磁盘操作。我们在课内已经学到过，磁盘操作的基本单位是块。并且因为我们操作磁盘是经过了操作系统的一层抽象的，操作系统的文件系统也定义了一个操作文件的基本单位块，这个块的大小和磁盘的块的大小相关，但不总是相同。因此我们操作文件的时候实际接触到的块大小是文件系统的块大小。如果我们每次读取和写入文件的时候都按照文件系统的块大小来进行，也能提升性能。在这个任务中，你至少需要完成以下要求：\n",
    "1. 复制你上一个任务的源代码在上面做修改，并把源代码命名为`mycat4.c`/`mycat4.rs`，可执行二进制文件命名为`mycat4`。\n",
    "2. 修改你的函数`io_blocksize`，让你的缓冲区大小既考虑到内存页大小也考虑到文件系统的块大小。\n",
    "3. 使用`hyperfine`测量`mycat4`的运行时间。\n",
    "4. 保持系统编程的基本规范。\n",
    "\n",
    "> 在完成这项任务的时候你需要注意以下几点：\n",
    "> 1. 文件系统中的每个文件，块大小不总是相同的。\n",
    "> 2. 有的文件系统可能会给出虚假的块大小，这种虚假的文件块大小可能根本不是2的整数次幂。\n",
    "\n",
    "这个任务，你需要在文档中回答以下问题：\n",
    "1. 为什么在设置缓冲区大小的时候需要考虑到文件系统块的大小的问题？\n",
    "   \n",
    "   Answer：*文件系统的块大小是磁盘IO的基本单位，合理设置缓冲区可以减少碎片化和系统调用次数，提高IO效率。*\n",
    "2. 对于上面提到的两个注意事项你是怎么解决的？\n",
    "  \n",
    "   Answer：*每个文件块大小不同：本实现用fstat获取当前文件的块大小，针对每个文件动态调整。虚假块大小：如果获取失败或块大小不合理，使用默认值（如4096字节）兜底，并且只取大于0的块大小。*"
   ]
  },
  {
   "cell_type": "code",
   "execution_count": 6,
   "id": "b1c29621",
   "metadata": {},
   "outputs": [
    {
     "name": "stdout",
     "output_type": "stream",
     "text": [
      "Benchmark 1: ./target/mycat4 test.txt\n",
      "  Time (mean ± σ):     381.0 ms ±   2.3 ms    [User: 35.8 ms, System: 345.0 ms]\n",
      "  Range (min … max):   378.0 ms … 386.0 ms    10 runs\n",
      " \n"
     ]
    }
   ],
   "source": [
    "%%bash\n",
    "hyperfine --warmup 3 './target/mycat4 test.txt'"
   ]
  },
  {
   "cell_type": "markdown",
   "id": "442bbd60",
   "metadata": {},
   "source": [
    "## 任务5: 考虑系统调用开销情况下的cat\n",
    "\n",
    "如果你正确完成了上面的任务，那么现在你的`cat`已经可以综合考虑内存页大小，内存页对齐和文件系统块大小的因素来设置缓冲区大小了。但是我们会发现，我们自己的`cat`性能仍然不如我们系统中的`cat`。并且如果你尝试过再进一步增大缓冲区的大小，你的`cat`性能还能更高。这是因为我们目前设置的缓冲区大小还不足以掩盖系统调用带来的开销。那么，我们的缓冲区究竟应该设置到什么大小才够呢？其实这个问题，我们仅仅使用理论分析是无法给出答案的，因为答案受到机器的硬件条件，操作系统的涉及等多重不确定因素的影响。但是，我们可以使用实验来解答这个问题。最后，我们还需要做出假设，不考虑上一个任务的注意事项1，也就是我们假设我们文件系统的大部分文件的块大小都一致（你可以使用我们的测试文件的块大小）。因此，设我们在之前的任务中设置的缓冲区大小是buf_size，我们需要通过实验找到一个倍数A，满足以下条件：\n",
    "1. 当缓冲区大小小于A * buf_size的时候，文件的读写速度显著减小\n",
    "2. 当缓冲区大小大于A * buf_size的时候，文件的读写速度并不显著提升\n",
    "最终，我们就可以直接设置我们的`cat`中的缓冲区大小设置成buf_size的固定倍率。在这个任务中，你只少需要完成以下要求：\n",
    "1. 编写一个实验脚本，尽量排除其他因素的影响，测量只在系统调用开销的影响下，你的系统最合适的缓冲区大小。并且给出这个大小下你的系统的读写速率。\n",
    "2. 复制你上一个任务的源代码在上面做修改，并把源代码命名为`mycat5.c`/`mycat5.rs`，可执行二进制文件命名为`mycat5`。\n",
    "3. 利用上面的实验结果，修改你的函数`io_blocksize`。\n",
    "4. 使用`hyperfine`测量`mycat5`的运行时间。\n",
    "5. 保持系统编程的基本规范。\n",
    "\n",
    "> 提示：\n",
    "> 1. `dd`命令可以用于复制一个文件(也就是读取并写入)，你可以使用命令行参数设置它的缓冲区大小，并且程序终止的时候可以报告平均文件读写速度。\n",
    "> 2. Linux系统中存在`/dev`文件系统，这个目录下有很多特殊文件，其中有一些对你来说可能有用。`/dev/null`，你向这个文件写入的内容并不真正写入磁盘，并且不会对你的系统造成任何影响。`/dev/zero`，如果你尝试读取这个文件你会得到源源不断的`\\0x0`，这个文件也并不真正的从磁盘中读取。\n",
    "\n",
    "这个任务，你需要在文档中包括以下内容：\n",
    "1. 解释一下你的实验脚本是怎么设计的。你应该尝试了多种倍率，请将它们的读写速率画成图表包含在文档中。\n",
    "   \n",
    "   Answer: 我们以内存页大小 4096 字节为基本单位，依次测试其 1 到 256 倍的缓冲区大小，固定传输数据总量为 512MB。通过使用 dd if=/dev/zero of=/dev/null 命令避免磁盘 I/O 干扰，仅测试读写本身的系统调用性能，并使用 Python 脚本记录每次传输所需时间，手动计算传输速率（MB/s）。实验结果显示，当缓冲区倍率小于 8 时，传输速率显著提升；而倍率达到 8 后，速率趋于稳定，进一步增大缓冲区提升有限。因此，我们最终选定倍率 A=8 作为 cat 程序中缓冲区的推荐设定。"
   ]
  },
  {
   "cell_type": "code",
   "execution_count": 5,
   "id": "61fa7eee",
   "metadata": {},
   "outputs": [
    {
     "name": "stdout",
     "output_type": "stream",
     "text": [
      "倍率    缓冲区大小(Bytes)        传输速率(MB/s)\n",
      "1     4096                12911.66\n",
      "2     8192                23849.27\n",
      "4     16384               37393.99\n",
      "8     32768               53017.15\n",
      "16    65536               46272.81\n",
      "32    131072              48359.95\n",
      "64    262144              48407.45\n",
      "128   524288              50225.11\n",
      "256   1048576             45838.66\n"
     ]
    }
   ],
   "source": [
    "# 请在这里填入你的测试脚本\n",
    "import subprocess\n",
    "import time\n",
    "\n",
    "BASE_BUF_SIZE = 4096  # 你的 buf_size\n",
    "TOTAL_SIZE_MB = 512   # 传输总量\n",
    "multipliers = [1, 2, 4, 8, 16, 32, 64, 128, 256]\n",
    "\n",
    "result_file = \"buffer_test_results.txt\"\n",
    "print(f\"{'倍率':<6}{'缓冲区大小(Bytes)':<20}{'传输速率(MB/s)'}\")\n",
    "\n",
    "with open(result_file, \"w\") as f:\n",
    "    f.write(\"倍率 缓冲区大小(Bytes) 传输速率(MB/s)\\n\")\n",
    "\n",
    "    for m in multipliers:\n",
    "        buf_size = BASE_BUF_SIZE * m\n",
    "        total_bytes = TOTAL_SIZE_MB * 1024 * 1024\n",
    "        count = total_bytes // buf_size\n",
    "\n",
    "        cmd = [\n",
    "            \"dd\",\n",
    "            \"if=/dev/zero\",\n",
    "            \"of=/dev/null\",\n",
    "            f\"bs={buf_size}\",\n",
    "            f\"count={count}\",\n",
    "        ]\n",
    "\n",
    "        try:\n",
    "            start = time.perf_counter()\n",
    "            subprocess.run(cmd, stdout=subprocess.DEVNULL, stderr=subprocess.DEVNULL)\n",
    "            end = time.perf_counter()\n",
    "            elapsed = end - start\n",
    "            speed_MBps = TOTAL_SIZE_MB / elapsed\n",
    "\n",
    "            print(f\"{m:<6}{buf_size:<20}{speed_MBps:.2f}\")\n",
    "            f.write(f\"{m} {buf_size} {speed_MBps:.2f}\\n\")\n",
    "        except Exception as e:\n",
    "            print(f\"{m:<6}{buf_size:<20}运行失败: {e}\")\n",
    "            f.write(f\"{m} {buf_size} NaN\\n\")\n"
   ]
  },
  {
   "cell_type": "code",
   "execution_count": 6,
   "id": "d25958d1",
   "metadata": {},
   "outputs": [
    {
     "data": {
      "image/png": "[encoded data removed]",
      "text/plain": [
       "<Figure size 1000x600 with 1 Axes>"
      ]
     },
     "metadata": {},
     "output_type": "display_data"
    }
   ],
   "source": [
    "import matplotlib.pyplot as plt\n",
    "\n",
    "multipliers = [1, 2, 4, 8, 16, 32, 64, 128, 256]\n",
    "throughput = [12911.66, 23849.27, 37393.99, 53017.15,\n",
    "              46272.81, 48359.95, 48407.45, 50225.11, 45838.66]\n",
    "\n",
    "plt.figure(figsize=(10,6))\n",
    "plt.plot(multipliers, throughput, marker='o')\n",
    "plt.xlabel(\"Buffer Size Multiplier (A)\")\n",
    "plt.ylabel(\"Throughput (MB/s)\")\n",
    "plt.title(\"Throughput vs. Buffer Size Multiplier\")\n",
    "plt.grid(True)\n",
    "plt.xscale(\"log\", base=2)  # 用对数X轴可视化更直观\n",
    "plt.tight_layout()\n",
    "plt.savefig(\"buffer_speed_plot.png\")\n",
    "plt.show()\n"
   ]
  },
  {
   "cell_type": "code",
   "execution_count": 5,
   "id": "fefb5fdb",
   "metadata": {},
   "outputs": [
    {
     "name": "stdout",
     "output_type": "stream",
     "text": [
      "Benchmark 1: ./target/mycat5 test.txt\n",
      "  Time (mean ± σ):     214.5 ms ±   2.3 ms    [User: 7.9 ms, System: 206.4 ms]\n",
      "  Range (min … max):   209.8 ms … 218.2 ms    13 runs\n",
      " \n"
     ]
    }
   ],
   "source": [
    "%%bash\n",
    "hyperfine --warmup 3 './target/mycat5 test.txt'"
   ]
  },
  {
   "cell_type": "markdown",
   "id": "54bef4af",
   "metadata": {},
   "source": [
    "## 任务6: 使用了系统调用`fdadvice`的cat\n",
    "\n",
    "虽然几乎我们的这个lab都在讨论设置缓冲区大小的问题，但是实际上我们的系统中的`cat`还在其他很多方面做了不少优化。这些优化在多数时候和缓冲区相比都不起决定性作用，但是我们也可以从中学习到不少有趣的技巧。这里我们就只尝试其中一个，使用系统调用`fadvise`。这个系统调用可以提示文件系统我们将会以什么样的模式来读写文件，这样操作系统可以设置合适的readahead窗口为文件的读写做准备。在这个任务中，你需要完成以下要求：\n",
    "1. 复制你上一个任务的源代码在上面做修改，并把源代码命名为`mycat6.c`/`mycat6.rs`，可执行二进制文件命名为`mycat6`。\n",
    "2. 在你的代码中使用`fadvise`进行优化。\n",
    "3. 使用`hyperfine`测量`mycat6`的运行时间。\n",
    "4. 保持系统编程的基本规范。\n",
    "\n",
    "这个任务，你需要在文档中回答以下问题：\n",
    "1. 你是如何设置`fadvise`的参数的？\n",
    "   \n",
    "   Answer：我使用了POSIX_FADV_SEQUENTIAL作为参数，这个参数告诉操作系统我们将按顺序读取文件在代码中，我们通过posix_fadvise(fd, 0, 0，POSIX_FADV_SEQUENTIAL)来设置，其中：第一个参数fd是文件描述符；第二个和第三个参数0, 0表示从文件开始到结束的整个范围；第四个参数POSIX_FADV_SEQUENTIAL表示我们将进行顺序读取\n",
    "2. 对于顺序读写的情况，文件系统可以如何调整readahead？对于随机读写的情况呢？\n",
    "   \n",
    "   Answer：对于顺序读写的情况：当使用POSIX_FADV_SEQUENTIAL时，文件系统会增加预读（readahead）窗口的大小，系统会提前读取更多的数据块到内存中，因为预见到这些数据很快就会被使用，这样可以减少后续读取时的磁盘I/O等待时间，通常预读窗口会设置为较大的值，比如几MB的数据；对于随机读写的情况：如果使用POSIX_FADV_RANDOM，文件系统会减少或禁用预读，因为随机访问时，预读的数据很可能不会被使用，反而会浪费内存和I/O带宽，系统会倾向于只读取实际请求的数据块预读窗口会设置得很小或完全禁用"
   ]
  },
  {
   "cell_type": "code",
   "execution_count": 9,
   "id": "3aad1e29",
   "metadata": {},
   "outputs": [
    {
     "name": "stdout",
     "output_type": "stream",
     "text": [
      "Benchmark 1: ./target/mycat6 test.txt\n"
     ]
    },
    {
     "name": "stdout",
     "output_type": "stream",
     "text": [
      "  Time (mean ± σ):     229.6 ms ±   2.0 ms    [User: 6.1 ms, System: 206.5 ms]\n",
      "  Range (min … max):   226.7 ms … 232.4 ms    12 runs\n",
      " \n"
     ]
    }
   ],
   "source": [
    "%%bash\n",
    "hyperfine --warmup 3 './target/mycat6 test.txt'"
   ]
  },
  {
   "cell_type": "markdown",
   "id": "2c605486",
   "metadata": {},
   "source": [
    "## 任务7: 总结\n",
    "\n",
    "经过了上面的所有任务，我们已经成功探索我们系统中最常用的工具`cat`所使用的各种优化。我相信你对涉及系统IO的编程也有了更深刻的理解。现在请你整理汇总上面每个任务你所写的`mycatx`以及系统的`cat`的测量数据，使用一个柱状图来展示。并且请你分析一下你得到的结果：它们符合你的预期吗？为什么？这个结果给你带来了什么启示？\n",
    "\n",
    "这个任务，你需要在文档中包含以下内容：\n",
    "1. 你的全部实验结果的柱状图。\n",
    "2. 你对上述实验结果的分析。\n",
    "   \n",
    "分析：\n",
    "1. 性能改进分析：\n",
    "- mycat1（逐字节读取）：性能最差，时间过长\n",
    "- mycat2（使用系统页大小作为缓冲区）：性能显著提升，约381.8ms\n",
    "- mycat3（使用页对齐内存）：性能与mycat2相近，约382.9ms\n",
    "- mycat4（考虑文件系统块大小）：性能与mycat2相近，约381.0ms\n",
    "- mycat5（使用更大的缓冲区）：性能显著提升，约214.5ms\n",
    "- mycat6（添加fadvise优化）：性能略有下降，约229.6ms\n",
    "\n",
    "2. 结果分析：\n",
    "- 符合预期的部分：\n",
    "    - 增加缓冲区大小（mycat5）带来的显著性能提升，这符合预期，因为减少了系统调用次数\n",
    "    - mycat1的性能最差，这符合预期，因为逐字节读取会产生大量系统调用\n",
    "    - 系统时间远大于用户时间，这符合预期，因为IO操作是主要瓶颈\n",
    "- 不符合预期的部分：\n",
    "    - 内存对齐（mycat3）和文件系统块大小优化（mycat4）带来的提升不明显\n",
    "    - fadvise优化（mycat6）反而导致性能略有下降，这可能是因为额外的系统调用开销超过了优化带来的收益\n",
    "\n",
    "3. 关键发现：\n",
    "- 系统时间占比很高（约90%），说明IO操作是主要瓶颈\n",
    "- 用户时间在mycat5和mycat6中显著降低，说明优化减少了CPU使用\n",
    "- 缓冲区大小对性能影响最大，而其他优化效果相对较小\n",
    "\n",
    "4. 启示：\n",
    "- 简单优化优先：增加缓冲区大小这种简单的优化往往比复杂的优化更有效\n",
    "- 实际测试验证：性能优化需要实际测试验证，不能仅凭理论推测\n",
    "- 关注主要瓶颈：系统IO是文件操作的主要瓶颈，应该优先考虑IO相关的优化\n",
    "- 避免过度优化：过度优化（如fadvise）可能会带来反效果，需要谨慎使用\n",
    "- 权衡开销：任何优化都需要考虑其带来的额外开销是否值得"
   ]
  },
  {
   "cell_type": "code",
   "execution_count": 21,
   "id": "4e293a45",
   "metadata": {},
   "outputs": [
    {
     "data": {
      "image/png": "[encoded data removed]",
      "text/plain": [
       "<Figure size 1200x600 with 1 Axes>"
      ]
     },
     "metadata": {},
     "output_type": "display_data"
    }
   ],
   "source": [
    "# 这里填写你用于画图的python代码\n",
    "import matplotlib.pyplot as plt\n",
    "import numpy as np\n",
    "import matplotlib as mpl\n",
    "\n",
    "# 设置字体\n",
    "plt.rcParams['font.family'] = 'DejaVu Sans'\n",
    "\n",
    "# 数据\n",
    "versions = ['mycat1', 'mycat2', 'mycat3', 'mycat4', 'mycat5', 'mycat6']\n",
    "times = [400, 381.8, 382.9, 381.0, 214.5, 229.6]  # mycat1用400ms作为占位\n",
    "user_times = [0, 40.1, 50.4, 35.8, 7.9, 6.1]\n",
    "system_times = [0, 341.2, 332.2, 345.0, 206.4, 206.5]\n",
    "\n",
    "# 创建图形\n",
    "plt.figure(figsize=(12, 6))\n",
    "\n",
    "# 设置柱状图的位置\n",
    "x = np.arange(len(versions))\n",
    "width = 0.25\n",
    "\n",
    "# 绘制柱状图\n",
    "bars = plt.bar(x, times, width, label='Total Time (ms)')\n",
    "plt.bar(x + width, user_times, width, label='User Time (ms)')\n",
    "plt.bar(x + width*2, system_times, width, label='System Time (ms)')\n",
    "\n",
    "# 添加标签和标题\n",
    "plt.xlabel('Version')\n",
    "plt.ylabel('Time (ms)')\n",
    "plt.title('Performance Comparison of Different mycat Versions')\n",
    "plt.xticks(x + width, versions)\n",
    "plt.legend()\n",
    "\n",
    "# 添加数值标签\n",
    "for i, v in enumerate(times):\n",
    "    if i == 0:  # mycat1\n",
    "        plt.text(i, v/2, 'Time Out', ha='center', va='center', color='red', fontweight='bold')\n",
    "    else:\n",
    "        plt.text(i, v, f'{v:.1f}', ha='center', va='bottom')\n",
    "\n",
    "# 保存图片\n",
    "plt.savefig('benchmark_results.png', dpi=300, bbox_inches='tight')\n",
    "plt.show()"
   ]
  }
 ],
 "metadata": {
  "kernelspec": {
   "display_name": ".venv",
   "language": "python",
   "name": "python3"
  },
  "language_info": {
   "codemirror_mode": {
    "name": "ipython",
    "version": 3
   },
   "file_extension": ".py",
   "mimetype": "text/x-python",
   "name": "python",
   "nbconvert_exporter": "python",
   "pygments_lexer": "ipython3",
   "version": "3.12.3"
  }
 },
 "nbformat": 4,
 "nbformat_minor": 5
}
